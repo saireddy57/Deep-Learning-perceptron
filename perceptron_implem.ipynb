{
 "cells": [
  {
   "cell_type": "code",
   "execution_count": 2,
   "metadata": {},
   "outputs": [],
   "source": [
    "import os \n",
    "import pandas as pd\n",
    "import matplotlib.pyplot as plt\n",
    "import joblib\n",
    "import seaborn as sns\n",
    "import numpy as np\n",
    "from matplotlib.colors import ListedColormap\n",
    "\n",
    "plt.style.use(\"fivethirtyeight\")"
   ]
  },
  {
   "cell_type": "code",
   "execution_count": 3,
   "metadata": {},
   "outputs": [],
   "source": [
    "class Perceptron:\n",
    "    def __init__(self,eta:float = None, epochs: int = None):\n",
    "        self.weights = np.random.randn(3) * 1e-4 # small random weights\n",
    "        training = (eta is not None) and (epochs is not None)\n",
    "        if training:\n",
    "            print(f\"Initial weights Before training:\\n{self.weights}\")\n",
    "        self.eta = eta \n",
    "        self.epochs = epochs\n",
    "    \n",
    "    def _z_outcome(self,inputs,weights):\n",
    "        return np.dot(inputs,weights)\n",
    "        \n",
    "\n",
    "    def activation_function(self,z):\n",
    "        return np.where(z>0,1,0)\n",
    "\n",
    "    def fit(self,x,y):\n",
    "        self.x = x\n",
    "        self.y = y \n",
    "        x_with_bias = np.c_[self.x ,-np.ones((len(self.x), 1))]\n",
    "        print(\"X with BIAS ==\",x_with_bias)\n",
    "\n",
    "        for epoch in range(self.epochs):\n",
    "            print(\"#\"*10)\n",
    "            print(f\"for epoch >>{epoch}\")\n",
    "            print(\"#\"*15)\n",
    "            z = self._z_outcome(x_with_bias,self.weights)\n",
    "            y_hat = self.activation_function(z)\n",
    "            print(f\"Y HAT VALUE:{y_hat}\")\n",
    "\n",
    "            self.error = self.y - y_hat\n",
    "            print(f\"Error:\\n{self.error}\")  \n",
    "\n",
    "            self.weights = self.weights + self.eta * np.dot(x_with_bias.T,self.error)\n",
    "            print(f\"Updated weihgts after epoch {epoch}/{self.epochs}:{self.weights}\")\n",
    "            print(\"--\"*10)\n",
    "\n",
    "    def predict(self,x):\n",
    "        x_with_bias = np.c_[x ,-np.ones((len(x), 1))]\n",
    "        z = self._z_outcome(x_with_bias,self.weights)\n",
    "        return self.activation_function(z)\n",
    "\n",
    "    def total_loss(self):\n",
    "        total_loss = np.sum(self.error)\n",
    "        print(f\"TITAL LOSS:{total_loss}\")\n",
    "        return total_loss\n",
    "\n",
    "    def _create_dir_return_path(self,model_dir,filename):\n",
    "        os.makedirs(model_dir,exist_ok=True)\n",
    "        return os.path.join(model_dir,filename)\n",
    "\n",
    "    def save(self,filename,model_dir = None):\n",
    "        if model_dir is not None:\n",
    "            model_file_path = self._create_dir_return_path(model_dir,filename)\n",
    "            joblib.dump(self,model_file_path)\n",
    "        else:\n",
    "            model_file_path = self._create_dir_return_path(\"model\",filename)\n",
    "            joblib.dump(self,model_file_path)\n",
    "\n",
    "    def load_model(self,filepath):\n",
    "        return joblib.load(filepath)\n",
    "\n"
   ]
  },
  {
   "cell_type": "code",
   "execution_count": 4,
   "metadata": {},
   "outputs": [],
   "source": [
    "def prepare_dataset(df,y):\n",
    "    y_data = df[y]\n",
    "    x_data = df.drop(y,axis=1)\n",
    "    return x_data,y_data\n",
    "# x = df.iloc[:3,0:2]\n",
    "# y = df.y"
   ]
  },
  {
   "cell_type": "code",
   "execution_count": 5,
   "metadata": {},
   "outputs": [
    {
     "name": "stdout",
     "output_type": "stream",
     "text": [
      "Initial weights Before training:\n",
      "[ 7.34769225e-05 -4.04817170e-05  1.20188493e-04]\n",
      "X with BIAS == [[ 0.  0. -1.]\n",
      " [ 0.  1. -1.]\n",
      " [ 1.  0. -1.]\n",
      " [ 1.  1. -1.]]\n",
      "##########\n",
      "for epoch >>0\n",
      "###############\n",
      "Y HAT VALUE:[0 0 0 0]\n",
      "Error:\n",
      "0    0\n",
      "1    0\n",
      "2    0\n",
      "3    1\n",
      "Name: y, dtype: int64\n",
      "Updated weihgts after epoch 0/10:[ 0.10007348  0.09995952 -0.09987981]\n",
      "--------------------\n",
      "##########\n",
      "for epoch >>1\n",
      "###############\n",
      "Y HAT VALUE:[1 1 1 1]\n",
      "Error:\n",
      "0   -1\n",
      "1   -1\n",
      "2   -1\n",
      "3    0\n",
      "Name: y, dtype: int64\n",
      "Updated weihgts after epoch 1/10:[ 7.34769225e-05 -4.04817170e-05  2.00120188e-01]\n",
      "--------------------\n",
      "##########\n",
      "for epoch >>2\n",
      "###############\n",
      "Y HAT VALUE:[0 0 0 0]\n",
      "Error:\n",
      "0    0\n",
      "1    0\n",
      "2    0\n",
      "3    1\n",
      "Name: y, dtype: int64\n",
      "Updated weihgts after epoch 2/10:[0.10007348 0.09995952 0.10012019]\n",
      "--------------------\n",
      "##########\n",
      "for epoch >>3\n",
      "###############\n",
      "Y HAT VALUE:[0 0 0 1]\n",
      "Error:\n",
      "0    0\n",
      "1    0\n",
      "2    0\n",
      "3    0\n",
      "Name: y, dtype: int64\n",
      "Updated weihgts after epoch 3/10:[0.10007348 0.09995952 0.10012019]\n",
      "--------------------\n",
      "##########\n",
      "for epoch >>4\n",
      "###############\n",
      "Y HAT VALUE:[0 0 0 1]\n",
      "Error:\n",
      "0    0\n",
      "1    0\n",
      "2    0\n",
      "3    0\n",
      "Name: y, dtype: int64\n",
      "Updated weihgts after epoch 4/10:[0.10007348 0.09995952 0.10012019]\n",
      "--------------------\n",
      "##########\n",
      "for epoch >>5\n",
      "###############\n",
      "Y HAT VALUE:[0 0 0 1]\n",
      "Error:\n",
      "0    0\n",
      "1    0\n",
      "2    0\n",
      "3    0\n",
      "Name: y, dtype: int64\n",
      "Updated weihgts after epoch 5/10:[0.10007348 0.09995952 0.10012019]\n",
      "--------------------\n",
      "##########\n",
      "for epoch >>6\n",
      "###############\n",
      "Y HAT VALUE:[0 0 0 1]\n",
      "Error:\n",
      "0    0\n",
      "1    0\n",
      "2    0\n",
      "3    0\n",
      "Name: y, dtype: int64\n",
      "Updated weihgts after epoch 6/10:[0.10007348 0.09995952 0.10012019]\n",
      "--------------------\n",
      "##########\n",
      "for epoch >>7\n",
      "###############\n",
      "Y HAT VALUE:[0 0 0 1]\n",
      "Error:\n",
      "0    0\n",
      "1    0\n",
      "2    0\n",
      "3    0\n",
      "Name: y, dtype: int64\n",
      "Updated weihgts after epoch 7/10:[0.10007348 0.09995952 0.10012019]\n",
      "--------------------\n",
      "##########\n",
      "for epoch >>8\n",
      "###############\n",
      "Y HAT VALUE:[0 0 0 1]\n",
      "Error:\n",
      "0    0\n",
      "1    0\n",
      "2    0\n",
      "3    0\n",
      "Name: y, dtype: int64\n",
      "Updated weihgts after epoch 8/10:[0.10007348 0.09995952 0.10012019]\n",
      "--------------------\n",
      "##########\n",
      "for epoch >>9\n",
      "###############\n",
      "Y HAT VALUE:[0 0 0 1]\n",
      "Error:\n",
      "0    0\n",
      "1    0\n",
      "2    0\n",
      "3    0\n",
      "Name: y, dtype: int64\n",
      "Updated weihgts after epoch 9/10:[0.10007348 0.09995952 0.10012019]\n",
      "--------------------\n",
      "TITAL LOSS:0\n"
     ]
    }
   ],
   "source": [
    "AND = {\n",
    "    'x1':[0,0,1,1],\n",
    "    'x2':[0,1,0,1],\n",
    "    'y':[0,0,0,1]\n",
    "}\n",
    "\n",
    "df = pd.DataFrame(AND)\n",
    "x,y= prepare_dataset(df,\"y\")\n",
    "ETA = 0.1\n",
    "EPOCHS = 10\n",
    "model_and = Perceptron(eta = ETA,epochs=EPOCHS)\n",
    "model_and.fit(x,y)\n",
    "total_loss = model_and.total_loss()\n",
    "# print(x)\n",
    "# print(\"\\n\")\n",
    "# print(y)"
   ]
  },
  {
   "cell_type": "code",
   "execution_count": 6,
   "metadata": {},
   "outputs": [
    {
     "data": {
      "text/plain": [
       "array([0])"
      ]
     },
     "execution_count": 6,
     "metadata": {},
     "output_type": "execute_result"
    }
   ],
   "source": [
    "AND_predict = {\n",
    "    'x1':[1],\n",
    "    'x2':[0]\n",
    "} \n",
    "and_pre = pd.DataFrame(AND_predict)\n",
    "model_and.predict(and_pre)"
   ]
  },
  {
   "cell_type": "code",
   "execution_count": 23,
   "metadata": {},
   "outputs": [],
   "source": [
    "OR_train = {\n",
    "    'x1':[0,0,1,1],\n",
    "    'x2':[0,1,0,1],\n",
    "    'y':[0,1,1,1]\n",
    "}"
   ]
  },
  {
   "cell_type": "code",
   "execution_count": 24,
   "metadata": {},
   "outputs": [],
   "source": [
    "df_or = pd.DataFrame(OR_train)"
   ]
  },
  {
   "cell_type": "code",
   "execution_count": 9,
   "metadata": {},
   "outputs": [],
   "source": [
    "x,y = prepare_dataset(df,\"y\")"
   ]
  },
  {
   "cell_type": "code",
   "execution_count": 10,
   "metadata": {},
   "outputs": [
    {
     "name": "stdout",
     "output_type": "stream",
     "text": [
      "Initial weights Before training:\n",
      "[ 8.46170374e-05 -2.06679221e-04 -9.19852648e-05]\n",
      "X with BIAS == [[ 0.  0. -1.]\n",
      " [ 0.  1. -1.]\n",
      " [ 1.  0. -1.]\n",
      " [ 1.  1. -1.]]\n",
      "##########\n",
      "for epoch >>0\n",
      "###############\n",
      "Y HAT VALUE:[1 0 1 0]\n",
      "Error:\n",
      "0   -1\n",
      "1    1\n",
      "2    0\n",
      "3    1\n",
      "Name: y, dtype: int64\n",
      "Updated weihgts after epoch 0/10:[ 0.10008462  0.19979332 -0.10009199]\n",
      "--------------------\n",
      "##########\n",
      "for epoch >>1\n",
      "###############\n",
      "Y HAT VALUE:[1 1 1 1]\n",
      "Error:\n",
      "0   -1\n",
      "1    0\n",
      "2    0\n",
      "3    0\n",
      "Name: y, dtype: int64\n",
      "Updated weihgts after epoch 1/10:[ 1.00084617e-01  1.99793321e-01 -9.19852648e-05]\n",
      "--------------------\n",
      "##########\n",
      "for epoch >>2\n",
      "###############\n",
      "Y HAT VALUE:[1 1 1 1]\n",
      "Error:\n",
      "0   -1\n",
      "1    0\n",
      "2    0\n",
      "3    0\n",
      "Name: y, dtype: int64\n",
      "Updated weihgts after epoch 2/10:[0.10008462 0.19979332 0.09990801]\n",
      "--------------------\n",
      "##########\n",
      "for epoch >>3\n",
      "###############\n",
      "Y HAT VALUE:[0 1 1 1]\n",
      "Error:\n",
      "0    0\n",
      "1    0\n",
      "2    0\n",
      "3    0\n",
      "Name: y, dtype: int64\n",
      "Updated weihgts after epoch 3/10:[0.10008462 0.19979332 0.09990801]\n",
      "--------------------\n",
      "##########\n",
      "for epoch >>4\n",
      "###############\n",
      "Y HAT VALUE:[0 1 1 1]\n",
      "Error:\n",
      "0    0\n",
      "1    0\n",
      "2    0\n",
      "3    0\n",
      "Name: y, dtype: int64\n",
      "Updated weihgts after epoch 4/10:[0.10008462 0.19979332 0.09990801]\n",
      "--------------------\n",
      "##########\n",
      "for epoch >>5\n",
      "###############\n",
      "Y HAT VALUE:[0 1 1 1]\n",
      "Error:\n",
      "0    0\n",
      "1    0\n",
      "2    0\n",
      "3    0\n",
      "Name: y, dtype: int64\n",
      "Updated weihgts after epoch 5/10:[0.10008462 0.19979332 0.09990801]\n",
      "--------------------\n",
      "##########\n",
      "for epoch >>6\n",
      "###############\n",
      "Y HAT VALUE:[0 1 1 1]\n",
      "Error:\n",
      "0    0\n",
      "1    0\n",
      "2    0\n",
      "3    0\n",
      "Name: y, dtype: int64\n",
      "Updated weihgts after epoch 6/10:[0.10008462 0.19979332 0.09990801]\n",
      "--------------------\n",
      "##########\n",
      "for epoch >>7\n",
      "###############\n",
      "Y HAT VALUE:[0 1 1 1]\n",
      "Error:\n",
      "0    0\n",
      "1    0\n",
      "2    0\n",
      "3    0\n",
      "Name: y, dtype: int64\n",
      "Updated weihgts after epoch 7/10:[0.10008462 0.19979332 0.09990801]\n",
      "--------------------\n",
      "##########\n",
      "for epoch >>8\n",
      "###############\n",
      "Y HAT VALUE:[0 1 1 1]\n",
      "Error:\n",
      "0    0\n",
      "1    0\n",
      "2    0\n",
      "3    0\n",
      "Name: y, dtype: int64\n",
      "Updated weihgts after epoch 8/10:[0.10008462 0.19979332 0.09990801]\n",
      "--------------------\n",
      "##########\n",
      "for epoch >>9\n",
      "###############\n",
      "Y HAT VALUE:[0 1 1 1]\n",
      "Error:\n",
      "0    0\n",
      "1    0\n",
      "2    0\n",
      "3    0\n",
      "Name: y, dtype: int64\n",
      "Updated weihgts after epoch 9/10:[0.10008462 0.19979332 0.09990801]\n",
      "--------------------\n",
      "TITAL LOSS:0\n",
      "TOTALL LOSSS 0\n"
     ]
    }
   ],
   "source": [
    "ETA = 0.1\n",
    "EPOCHS = 10\n",
    "or_model = Perceptron(eta=ETA,epochs=EPOCHS)\n",
    "or_model.fit(x,y)\n",
    "tot_loss = or_model.total_loss()\n",
    "print(\"TOTALL LOSSS\",tot_loss)"
   ]
  },
  {
   "cell_type": "code",
   "execution_count": 11,
   "metadata": {},
   "outputs": [
    {
     "data": {
      "text/plain": [
       "array([1])"
      ]
     },
     "execution_count": 11,
     "metadata": {},
     "output_type": "execute_result"
    }
   ],
   "source": [
    "or_predict = {\n",
    "    'x1':[1],\n",
    "    'x2':[0]\n",
    "} \n",
    "and_pre = pd.DataFrame(or_predict)\n",
    "or_model.predict(and_pre)"
   ]
  },
  {
   "cell_type": "code",
   "execution_count": 12,
   "metadata": {},
   "outputs": [],
   "source": [
    "model_and.save(filename=\"and.model\")"
   ]
  },
  {
   "cell_type": "code",
   "execution_count": 13,
   "metadata": {},
   "outputs": [],
   "source": [
    "reload_percep = Perceptron().load_model(filepath = \"model/and.model\")"
   ]
  },
  {
   "cell_type": "code",
   "execution_count": 14,
   "metadata": {},
   "outputs": [
    {
     "data": {
      "text/plain": [
       "array([0])"
      ]
     },
     "execution_count": 14,
     "metadata": {},
     "output_type": "execute_result"
    }
   ],
   "source": [
    "reload_percep.predict(and_pre)"
   ]
  },
  {
   "cell_type": "code",
   "execution_count": 15,
   "metadata": {},
   "outputs": [],
   "source": [
    "model_and.save(filename=\"or.model\")"
   ]
  },
  {
   "cell_type": "code",
   "execution_count": 16,
   "metadata": {},
   "outputs": [],
   "source": [
    "reload_percep_or = Perceptron().load_model(filepath = \"model/and.model\")"
   ]
  },
  {
   "cell_type": "code",
   "execution_count": 17,
   "metadata": {},
   "outputs": [
    {
     "data": {
      "text/plain": [
       "array([0])"
      ]
     },
     "execution_count": 17,
     "metadata": {},
     "output_type": "execute_result"
    }
   ],
   "source": [
    "reload_percep_or.predict(and_pre)"
   ]
  },
  {
   "cell_type": "code",
   "execution_count": 49,
   "metadata": {},
   "outputs": [],
   "source": [
    "def save_plot(df,model,filename = \"plot.png\"):\n",
    "    def _create_base_plot(df):\n",
    "        df.plot(kind = \"scatter\",x= \"x1\",y= \"x2\",c = \"y\",s=100,cmap = \"coolwarm\")\n",
    "        plt.axhline(y=0,color = \"black\",linestyle = \"--\",linewidth = 1)\n",
    "        plt.axvline(x=0,color = \"black\",linestyle = \"--\",linewidth = 1)\n",
    "        figure=plt.gcf()\n",
    "        figure.set_size_inches(10,8)\n",
    "\n",
    "    def _plot_decision_regions(x,y,classifier,resolution=0.02):\n",
    "        colors = ('cyan','lightgreen')\n",
    "        cmap = ListedColormap(colors)\n",
    "        x = x.values\n",
    "        x1 = x[:,0]\n",
    "        x2 = x[:,1]\n",
    "        x1_min,x1_max = x1.min() - 1,x1.max()+1\n",
    "        x2_min,x2_max = x2.min() - 1,x2.max()+1\n",
    "        xx1,xx2 = np.meshgrid(np.arange(x1_min,x1_max,resolution),\n",
    "                            np.arange(x2_min,x2_max,resolution))\n",
    "\n",
    "        y_hat = classifier.predict(np.array([xx1.ravel(),xx2.ravel()]).T)\n",
    "        y_hat = y_hat.reshape(xx1.shape)\n",
    "\n",
    "        plt.contour(xx1,xx2,y_hat,alpha = 0.3,cmap  = cmap)\n",
    "        plt.xlim(xx1.min(),xx1.max())\n",
    "        plt.ylim(xx1.min(),xx1.max())\n",
    "        plt.plot()\n",
    "\n",
    "    x,y = prepare_dataset(df,\"y\")\n",
    "    _create_base_plot(df)\n",
    "    _plot_decision_regions(x,y,model)\n",
    "    plot_dir = \"plots\"\n",
    "    os.makedirs(plot_dir,exist_ok=True)\n",
    "    plot_path = os.path.join(plot_dir,filename) \n",
    "    plt.savefig(plot_path)"
   ]
  },
  {
   "cell_type": "code",
   "execution_count": 50,
   "metadata": {},
   "outputs": [
    {
     "data": {
      "image/png": "[encoded data removed]",
      "text/plain": [
       "<Figure size 1000x800 with 2 Axes>"
      ]
     },
     "metadata": {},
     "output_type": "display_data"
    }
   ],
   "source": [
    "save_plot(df_or,or_model,filename = \"plot.png\")"
   ]
  },
  {
   "cell_type": "code",
   "execution_count": 26,
   "metadata": {},
   "outputs": [
    {
     "data": {
      "text/html": [
       "<div>\n",
       "<style scoped>\n",
       "    .dataframe tbody tr th:only-of-type {\n",
       "        vertical-align: middle;\n",
       "    }\n",
       "\n",
       "    .dataframe tbody tr th {\n",
       "        vertical-align: top;\n",
       "    }\n",
       "\n",
       "    .dataframe thead th {\n",
       "        text-align: right;\n",
       "    }\n",
       "</style>\n",
       "<table border=\"1\" class=\"dataframe\">\n",
       "  <thead>\n",
       "    <tr style=\"text-align: right;\">\n",
       "      <th></th>\n",
       "      <th>x1</th>\n",
       "      <th>x2</th>\n",
       "      <th>y</th>\n",
       "    </tr>\n",
       "  </thead>\n",
       "  <tbody>\n",
       "    <tr>\n",
       "      <th>0</th>\n",
       "      <td>0</td>\n",
       "      <td>0</td>\n",
       "      <td>0</td>\n",
       "    </tr>\n",
       "    <tr>\n",
       "      <th>1</th>\n",
       "      <td>0</td>\n",
       "      <td>1</td>\n",
       "      <td>1</td>\n",
       "    </tr>\n",
       "    <tr>\n",
       "      <th>2</th>\n",
       "      <td>1</td>\n",
       "      <td>0</td>\n",
       "      <td>1</td>\n",
       "    </tr>\n",
       "    <tr>\n",
       "      <th>3</th>\n",
       "      <td>1</td>\n",
       "      <td>1</td>\n",
       "      <td>1</td>\n",
       "    </tr>\n",
       "  </tbody>\n",
       "</table>\n",
       "</div>"
      ],
      "text/plain": [
       "   x1  x2  y\n",
       "0   0   0  0\n",
       "1   0   1  1\n",
       "2   1   0  1\n",
       "3   1   1  1"
      ]
     },
     "execution_count": 26,
     "metadata": {},
     "output_type": "execute_result"
    }
   ],
   "source": [
    "df_or"
   ]
  },
  {
   "cell_type": "code",
   "execution_count": null,
   "metadata": {},
   "outputs": [],
   "source": []
  },
  {
   "cell_type": "code",
   "execution_count": null,
   "metadata": {},
   "outputs": [],
   "source": []
  },
  {
   "cell_type": "code",
   "execution_count": null,
   "metadata": {},
   "outputs": [],
   "source": []
  },
  {
   "cell_type": "code",
   "execution_count": null,
   "metadata": {},
   "outputs": [],
   "source": []
  },
  {
   "cell_type": "code",
   "execution_count": null,
   "metadata": {},
   "outputs": [],
   "source": []
  },
  {
   "cell_type": "code",
   "execution_count": null,
   "metadata": {},
   "outputs": [],
   "source": []
  },
  {
   "cell_type": "code",
   "execution_count": null,
   "metadata": {},
   "outputs": [],
   "source": []
  },
  {
   "cell_type": "code",
   "execution_count": null,
   "metadata": {},
   "outputs": [],
   "source": []
  },
  {
   "cell_type": "code",
   "execution_count": null,
   "metadata": {},
   "outputs": [],
   "source": []
  },
  {
   "cell_type": "code",
   "execution_count": null,
   "metadata": {},
   "outputs": [],
   "source": []
  },
  {
   "cell_type": "code",
   "execution_count": null,
   "metadata": {},
   "outputs": [],
   "source": []
  }
 ],
 "metadata": {
  "kernelspec": {
   "display_name": "Python 3.7.15 (conda)",
   "language": "python",
   "name": "python3"
  },
  "language_info": {
   "codemirror_mode": {
    "name": "ipython",
    "version": 3
   },
   "file_extension": ".py",
   "mimetype": "text/x-python",
   "name": "python",
   "nbconvert_exporter": "python",
   "pygments_lexer": "ipython3",
   "version": "3.7.15"
  },
  "orig_nbformat": 4,
  "vscode": {
   "interpreter": {
    "hash": "3795e2cf3e7ada32e7e28ae2d5f7a90987856957c999031272c741bf8bea6040"
   }
  }
 },
 "nbformat": 4,
 "nbformat_minor": 2
}
